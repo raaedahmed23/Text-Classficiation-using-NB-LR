{
 "cells": [
  {
   "attachments": {},
   "cell_type": "markdown",
   "metadata": {},
   "source": [
    "# Naive Bayes and Logistic Regression"
   ]
  },
  {
   "attachments": {},
   "cell_type": "markdown",
   "metadata": {},
   "source": [
    "### Creating the Datasets"
   ]
  },
  {
   "cell_type": "code",
   "execution_count": 61,
   "metadata": {},
   "outputs": [
    {
     "name": "stderr",
     "output_type": "stream",
     "text": [
      "[nltk_data] Downloading package stopwords to /Users/raaed/nltk_data...\n",
      "[nltk_data]   Package stopwords is already up-to-date!\n",
      "[nltk_data] Downloading package wordnet to /Users/raaed/nltk_data...\n",
      "[nltk_data]   Package wordnet is already up-to-date!\n",
      "[nltk_data] Downloading package punkt to /Users/raaed/nltk_data...\n",
      "[nltk_data]   Unzipping tokenizers/punkt.zip.\n"
     ]
    },
    {
     "data": {
      "text/plain": [
       "True"
      ]
     },
     "execution_count": 61,
     "metadata": {},
     "output_type": "execute_result"
    }
   ],
   "source": [
    "import numpy as np \n",
    "from sklearn.feature_extraction.text import CountVectorizer\n",
    "import random\n",
    "import os\n",
    "import nltk\n",
    "from nltk.corpus import stopwords\n",
    "from nltk.stem import WordNetLemmatizer\n",
    "\n",
    "nltk.download('stopwords')\n",
    "nltk.download('wordnet')\n",
    "nltk.download('punkt')"
   ]
  },
  {
   "cell_type": "code",
   "execution_count": 62,
   "metadata": {},
   "outputs": [],
   "source": [
    "stop_words = set(stopwords.words('english'))\n",
    "lemmatizer = WordNetLemmatizer()"
   ]
  },
  {
   "cell_type": "code",
   "execution_count": 63,
   "metadata": {},
   "outputs": [],
   "source": [
    "def load_dataset(filepath) -> list[tuple]:\n",
    "    ham_data = []\n",
    "    spam_data = []\n",
    "\n",
    "    for dirpath, dirnames, filenames in os.walk(filepath):\n",
    "        for filename in filenames:\n",
    "            with open(os.path.join(dirpath,filename), encoding = 'iso-8859-1') as f:\n",
    "                if 'ham' in filename:\n",
    "                    ham_data.append(f.read())\n",
    "                elif 'spam' in filename:\n",
    "                    spam_data.append(f.read())\n",
    "    \n",
    "    # assign 1/0 to samples and combine data\n",
    "    positive_samples = [(email, 1) for email in ham_data]\n",
    "    negative_samples = [(email, 0) for email in spam_data]\n",
    "\n",
    "    all_samples = positive_samples + negative_samples\n",
    "    random.shuffle(all_samples)\n",
    "\n",
    "    #remove stop words and lemmatize dataset\n",
    "    filtered_dataset = []\n",
    "    for text, y in all_samples:\n",
    "        words = nltk.word_tokenize(text)\n",
    "        words = [word for word in words if word.lower() not in stop_words]\n",
    "        words = [lemmatizer.lemmatize(word) for word in words]\n",
    "        fil_text = \" \".join(words)\n",
    "        filtered_dataset.append((fil_text, y))\n",
    "\n",
    "\n",
    "    return filtered_dataset# [(text, 0), (text, 1)...] \n",
    "\n",
    "# Specify the path each of the datasets. Point to the directory containing the ham, spam directories - \n",
    "enron1_test = load_dataset('project1_datasets/enron1/test')\n",
    "enron1_train = load_dataset()\n",
    "\n"
   ]
  },
  {
   "cell_type": "code",
   "execution_count": 67,
   "metadata": {},
   "outputs": [
    {
     "data": {
      "text/plain": [
       "[(\"Subject : hot stock mover advisory yap internationa | , inc . ( ypil ) voip technoiogy requires computer high speed internet connection dial - product . current price : $ . 15 watch stock tuesday littie voip stock reaily moving lateiy . move , reaily go . . . gain 10 % , 2 oo % unheard . break news ! ! past month seen yap international executing pian become | eading suppiier voip technology inciuding fo | | owing milestone : november 17 , 2004 , yap internationa | revealed unique patent pending technoiogy marketed nomad , yap internationa | personal gateway . yap internationa | persona | gateway ( nomad ) patent - pending solution real probiem inherent ail current competing voip gateway . problem end user | imited physical location gateway order make voip cal | . nomad ¦ unique patent pending technoiogy aliows customer make voip - enabied cali teiephone , one physica | | connected gateway . first time customer may cal | personal gateway cellular landline push button phone world , ( even | aptop pda ) , connecting internet voip call saving oniine information service , bypassing either partiaily entireiy high cost internationa | long distance charge incumbent teiecommunication provider . december 17 , 2 oo 4 , yap internationa | announced first major contract involving use technology product . yap international announced signing exclusive contract representaciones gorbea , . . company ¦ distributor voip product service central south america . representaciones gorbea , . . ( rgsa ) major presence region . rgsa entered exciusive contractua | agreement second largest carrier region 20 , 0 oo voip unit depioyed throughout guatemala 2 oo 5 . contract represents excess $ 52 million usd yap international expects product wi | | comprise | argest share order . rgsa also exciusive representative level 3 ( lvlt - nasdaq ) central america . january 19 , 2 oo 5 , effort enhance management team , yap internationa | announced appointment dr . vladimir karpenkov , m , ph . . company ' chief information officer . dr . karpenkov earned phd ura | state university compieted 2 separate master science degree genus | programming / data base management physic electro magnetic occurrence / optic semi conductor respectively . dr . karpenkov diverse background also includes direct involvement deveiopment proprietary technoiogies system , many patented u . . europe . one system first ceiluiar phone network city chelyabinsk , russia developed dr , karpenkov partnership miiliken gmbh germany radio teiephone inc . russia . agreement security trading service inc . development past month leaf u tool necessary commercialize market product gioba | scaie . expect miiestones met thus executing business plan anticipated ¨ , stated jan olivier , ceo yap internationa | inc . company : yap international , inc . muiti - nationa | internet communication company deveioping cost effective telecommunication voice internet protocol ( voip ) technology . company hoids exciusive right revolutionary voip product line cailed nomad system dia | - , broadband , dsl , cabie , satellite wireless capability . company plan targeting : 1 ) national fixed line ii iii tier carrier interested effectiveiy competing dominant carrier marketpiace , 2 ) large muitinational corporation need u european presence , ( exampie ) , united state number ringing office guatemaia london - offering business partner economical way communicate , 3 ) immigrant north america , mean significantiy | owering communication expense relative country origin . company headquartered la vega administrative office vancouver say office los angeies , san francisco newport beach california . - - - - - - - - - - - - - - - - - - - - - - - - - - - - - - - - - - - - - - - - piease watch one trade tuesday ! go ypi | information within pubiication contains future | ooking statement within meaning section 27 security act 1933 section 21 b security exchange act 1934 . statement thatexpress involve discussion respect prediction , expectation , beiiefs , plan , projection , objective , goais , assumption futureevents performance statement historica | fact may future looking statement . future | ooking statement based expectation , estimate projection time statement made invoive number risk uncertainty couid cause actua | resuits event differ materia | | presently anticipated . future | ooking statement action may identified use word project , foresee , expects , wi | | , anticipates , estimate , belief , understands statement indicating certain action may , couid , might occur . future - | ooking statement based information currently availabie subject number risk , uncertainty factor couid cause ypil ' actual resuits , performance , prospect opportunity differ materialiy expressed , impiied , future - looking statement . many microcap stock , today ' company additional risk factor raise doubt ability continue going concern . risk , uncertainty factor inciude , without | imitation , company ' growth expectation ongoing funding requirement , specificaliy , company ' growth prospect scalabie customer . risk include company ' | imited operating history , company ' history operating | os , consumer ' acceptance , company ' use licensed technoiogies , risk increased competition , potentia | need additional financing , condition term financing consummated , limited trading market company ' security , possibie voiatility company ' stock price , concentration ownership , potential fiuctuation company ' operating resuits . pubiisher report represent information contained message state | | materia | fact omit materia | fact necessary make statement therein misieading . al | information provided within report pertaining investing , stock , security must understood information provided investment advice . publisher newsletter advises ail reader subscriber seek advice registered professiona | security representative deciding trade stock featured within report . none material within report sha | | construed kind investment advice soiicitation . many company verge bankruptcy . | ose money investing stock . pubiisher report registered investment expert . subscriber view information herein lega | , tax , accounting investment advice . reference past performance ( ) company specially seiected referenced based favorabie performance company . would need perfect timing achieve result example given . assurance happening . remember , aiways , past performance indicative future result thorough due diligence effort , including review company ' fiiings sec gov edgar - online com avaiiabie , completed prior investing . | | factua | information report gathered pubiic source , including limited company website company press reieases . pubiisher discloses receipt fifteen thousand dollar third party , officer , director , affiiiate sharehoider ofthe company preparation online report . aware aninherent conflict interest resulting compensation due fact paid pubiication . pubiisher report beiieves information reiiable make assurance accuracy compieteness . use materia | within report constitutes acceptance term . wish stop future maiiings , fee | wrongfu | | piaced membership , piease go send biank e mail thanks subject stock 55 @ yahoo . com\",\n",
       "  0),\n",
       " ('Subject : max , good fucker - say bianca . suck cock musturbating ! hello , maryann teenager sex / teenmodels hardcore site porn site collecting young girl school exclusive image video . filming girl 5 different country , make website always fresh , colorful exclusive . http : / / shop - site . info / tv / see later , maryann ibarra',\n",
       "  0),\n",
       " ('Subject : cleburne / tenaska iv outage - - - - - - - - - - - - - - - - - - - - - - forwarded mark mccoy / corp / enron 10 / 17 / 2000 11 : 11 - - - - - - - - - - - - - - - - - - - - - - - - - - - mike mazowita 10 / 17 / 2000 11 : 07 : mark mccoy / corp / enron @ enron cc : ken . riesz @ naes . com subject : cleburne / tenaska iv outage mark , understand need note file regarding tenaska plant . saturday , october 14 , 2000 5 : 14 , plant catastrophic failure gas turbine . entire plant essentially shutdown repair made . outage last minimum 10 day . ken riesz keep informed progress . hope need . let know . michael mazowita',\n",
       "  1),\n",
       " ('Subject : attached availability spreadsheet february , 2001 . assistance , please first 2 e - mail received devon . second immediately follow . beverly - - - - - - - - - - - - - - - - - - - - - - forwarded beverly beaty / hou / ect 01 / 24 / 2001 07 : 23 - - - - - - - - - - - - - - - - - - - - - - - - - - - enron capital & trade resource corp . : `` victor haley `` 01 / 22 / 2001 01 : 41 pm : cc : subject : attached availability spreadsheet february , 2001 . assistance , please attached availability spreadsheet february , 2001 . assistance , please call 405 . 228 . 4298 . - enronavailso 201 . xl',\n",
       "  1),\n",
       " (\"Subject : wait first date ? skip right * x . . . find date tonight get laid . looking meet someone ' looking thing ? quick sex casual flirting cyber sex lot . . see profile - click upload profile - click married / single woman man looking meet discreet . browse thousand profile pic match need . see profile - click upload profile - click receiving email someone shown interest profile , browsed profile past please let u know interested receiving high quality letter future never get letter . thank remove w artichoke g deficit\",\n",
       "  0)]"
      ]
     },
     "execution_count": 67,
     "metadata": {},
     "output_type": "execute_result"
    }
   ],
   "source": []
  },
  {
   "cell_type": "code",
   "execution_count": 54,
   "metadata": {},
   "outputs": [],
   "source": [
    "#convert the text data to bernoulli and bow models"
   ]
  },
  {
   "attachments": {},
   "cell_type": "markdown",
   "metadata": {},
   "source": [
    "### Implementing Multinomial Naive Bayes"
   ]
  },
  {
   "cell_type": "code",
   "execution_count": null,
   "metadata": {},
   "outputs": [],
   "source": []
  },
  {
   "attachments": {},
   "cell_type": "markdown",
   "metadata": {},
   "source": [
    "### Implement Discrete Naive Bayes"
   ]
  },
  {
   "cell_type": "code",
   "execution_count": null,
   "metadata": {},
   "outputs": [],
   "source": []
  }
 ],
 "metadata": {
  "kernelspec": {
   "display_name": "ml",
   "language": "python",
   "name": "python3"
  },
  "language_info": {
   "codemirror_mode": {
    "name": "ipython",
    "version": 3
   },
   "file_extension": ".py",
   "mimetype": "text/x-python",
   "name": "python",
   "nbconvert_exporter": "python",
   "pygments_lexer": "ipython3",
   "version": "3.10.8"
  },
  "orig_nbformat": 4,
  "vscode": {
   "interpreter": {
    "hash": "08eac26dc1f80337b7d87e94e7159a5bad95c2e85f47efef91c61359b3afbfe9"
   }
  }
 },
 "nbformat": 4,
 "nbformat_minor": 2
}
